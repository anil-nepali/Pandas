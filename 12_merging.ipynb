{
 "cells": [
  {
   "cell_type": "code",
   "execution_count": 1,
   "id": "fc71b1f3-0862-4d2f-8c8e-78c8bac2c0fd",
   "metadata": {},
   "outputs": [
    {
     "name": "stdout",
     "output_type": "stream",
     "text": [
      "\n",
      " Students DataFrame:\n",
      "   Student_ID  Name\n",
      "0           1  Anil\n",
      "1           2  Sita\n",
      "2           3   Ram\n",
      "3           4  Hari\n",
      "\n",
      " Scores DataFrame:\n",
      "   Student_ID  Score\n",
      "0           1     88\n",
      "1           2     92\n",
      "2           4     75\n",
      "3           5     60\n"
     ]
    }
   ],
   "source": [
    "# 3_merging_pandas.py\n",
    "\n",
    "import pandas as pd\n",
    "\n",
    "\n",
    "students = pd.DataFrame({\n",
    "    \"Student_ID\": [1, 2, 3, 4],\n",
    "    \"Name\": [\"Anil\", \"Sita\", \"Ram\", \"Hari\"]\n",
    "})\n",
    "\n",
    "scores = pd.DataFrame({\n",
    "    \"Student_ID\": [1, 2, 4, 5],\n",
    "    \"Score\": [88, 92, 75, 60]\n",
    "})\n",
    "\n",
    "print(\"\\n Students DataFrame:\")\n",
    "print(students)\n",
    "\n",
    "print(\"\\n Scores DataFrame:\")\n",
    "print(scores)\n"
   ]
  },
  {
   "cell_type": "code",
   "execution_count": 2,
   "id": "376b8850-c484-4b16-b608-dfd0b5e2db2c",
   "metadata": {},
   "outputs": [
    {
     "name": "stdout",
     "output_type": "stream",
     "text": [
      "\n",
      " INNER MERGE (only matching Student_ID):\n",
      "   Student_ID  Name  Score\n",
      "0           1  Anil     88\n",
      "1           2  Sita     92\n",
      "2           4  Hari     75\n"
     ]
    }
   ],
   "source": [
    "\n",
    "# 1. INNER MERGE (Only common keys)\n",
    "\n",
    "print(\"\\n INNER MERGE (only matching Student_ID):\")\n",
    "inner_merged = pd.merge(students, scores, on=\"Student_ID\", how=\"inner\")\n",
    "print(inner_merged)"
   ]
  },
  {
   "cell_type": "code",
   "execution_count": 3,
   "id": "432a0cfb-def3-4d69-9224-9ad0ac6f8c6f",
   "metadata": {},
   "outputs": [
    {
     "name": "stdout",
     "output_type": "stream",
     "text": [
      "\n",
      " LEFT MERGE (all students, match scores if available):\n",
      "   Student_ID  Name  Score\n",
      "0           1  Anil   88.0\n",
      "1           2  Sita   92.0\n",
      "2           3   Ram    NaN\n",
      "3           4  Hari   75.0\n"
     ]
    }
   ],
   "source": [
    "\n",
    "#  2. LEFT MERGE (All from left, match from right)\n",
    "print(\"\\n LEFT MERGE (all students, match scores if available):\")\n",
    "left_merged = pd.merge(students, scores, on=\"Student_ID\", how=\"left\")\n",
    "print(left_merged)"
   ]
  },
  {
   "cell_type": "code",
   "execution_count": 4,
   "id": "5cca8735-94e3-44d9-9349-7f82d294baf6",
   "metadata": {},
   "outputs": [
    {
     "name": "stdout",
     "output_type": "stream",
     "text": [
      "\n",
      "🔹 RIGHT MERGE (all scores, match students if available):\n",
      "   Student_ID  Name  Score\n",
      "0           1  Anil     88\n",
      "1           2  Sita     92\n",
      "2           4  Hari     75\n",
      "3           5   NaN     60\n"
     ]
    }
   ],
   "source": [
    " \n",
    "# 3. RIGHT MERGE (All from right, match from left)\n",
    "\n",
    "print(\"\\n🔹 RIGHT MERGE (all scores, match students if available):\")\n",
    "right_merged = pd.merge(students, scores, on=\"Student_ID\", how=\"right\")\n",
    "print(right_merged)"
   ]
  },
  {
   "cell_type": "code",
   "execution_count": 5,
   "id": "797b5de5-b681-48e0-a1eb-db35da8f62e3",
   "metadata": {},
   "outputs": [
    {
     "name": "stdout",
     "output_type": "stream",
     "text": [
      "\n",
      " OUTER MERGE (all students and scores):\n",
      "   Student_ID  Name  Score\n",
      "0           1  Anil   88.0\n",
      "1           2  Sita   92.0\n",
      "2           3   Ram    NaN\n",
      "3           4  Hari   75.0\n",
      "4           5   NaN   60.0\n"
     ]
    }
   ],
   "source": [
    "\n",
    "#  4. OUTER MERGE (All from both sides, fill NaN for missing)\n",
    "\n",
    "print(\"\\n OUTER MERGE (all students and scores):\")\n",
    "outer_merged = pd.merge(students, scores, on=\"Student_ID\", how=\"outer\")\n",
    "print(outer_merged)"
   ]
  },
  {
   "cell_type": "code",
   "execution_count": null,
   "id": "8baa039e-ae9a-44a2-8aa1-601fcced9024",
   "metadata": {},
   "outputs": [],
   "source": [
    "\n",
    "# -----------------------------\n",
    "# 🔶 5. MERGE with different column names\n",
    "# -----------------------------\n",
    "# Create another DataFrame with different key name\n",
    "grades = pd.DataFrame({\n",
    "    \"ID\": [1, 2, 3],\n",
    "    \"Grade\": [\"A\", \"A+\", \"B\"]\n",
    "})\n",
    "\n",
    "print(\"\\n🔹 MERGE with different column names (left_on & right_on):\")\n",
    "merged_diff = pd.merge(students, grades, left_on=\"Student_ID\", right_on=\"ID\")\n",
    "print(merged_diff)\n"
   ]
  }
 ],
 "metadata": {
  "kernelspec": {
   "display_name": "Python 3 (ipykernel)",
   "language": "python",
   "name": "python3"
  },
  "language_info": {
   "codemirror_mode": {
    "name": "ipython",
    "version": 3
   },
   "file_extension": ".py",
   "mimetype": "text/x-python",
   "name": "python",
   "nbconvert_exporter": "python",
   "pygments_lexer": "ipython3",
   "version": "3.13.1"
  }
 },
 "nbformat": 4,
 "nbformat_minor": 5
}

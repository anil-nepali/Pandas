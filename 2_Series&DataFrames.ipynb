{
 "cells": [
  {
   "cell_type": "code",
   "execution_count": null,
   "id": "e265f62c-74f8-46d8-942e-c24cc21b3192",
   "metadata": {},
   "outputs": [],
   "source": [
    "#Series\n",
    "\"\"\"\n",
    "    one-dimensional labeled array.\n",
    "    can hold any datatype: integers,strings,float\n",
    "    each element in the series has a unique label called an index.\n",
    "\"\"\""
   ]
  },
  {
   "cell_type": "code",
   "execution_count": 8,
   "id": "dfad0f0c-a262-4c61-86d7-b64bc0d6234e",
   "metadata": {},
   "outputs": [
    {
     "name": "stdout",
     "output_type": "stream",
     "text": [
      "0    10\n",
      "1    22\n",
      "2    33\n",
      "dtype: int64\n"
     ]
    }
   ],
   "source": [
    "import pandas as pd\n",
    "#This is the list for the series\n",
    "data=[10,22,33]\n",
    "print(pd.Series(data))"
   ]
  },
  {
   "cell_type": "code",
   "execution_count": 13,
   "id": "d66e855c-e0aa-4b63-afaf-ef670ed8d7c4",
   "metadata": {},
   "outputs": [
    {
     "name": "stdout",
     "output_type": "stream",
     "text": [
      "Math       80\n",
      "Science    90\n",
      "English    99\n",
      "dtype: int64\n",
      "80\n"
     ]
    }
   ],
   "source": [
    "#creating custom Index in series\n",
    "import pandas as pd\n",
    "marks=pd.Series([80,90,99], index=[\"Math\",\"Science\",\"English\"])\n",
    "print(marks)\n",
    "\n",
    "#accessing specific value in series\n",
    "print(marks[\"Math\"])\n"
   ]
  },
  {
   "cell_type": "code",
   "execution_count": 3,
   "id": "867f3b50-13c9-454a-bf12-194161852084",
   "metadata": {},
   "outputs": [
    {
     "data": {
      "text/plain": [
       "'\\n    two-dimensional labeled data structure\\n    similar to a table in database or Excel spreadsheet\\n    it consists of rows & columns where \\n      rows have indices(label)\\n      columns have name (label)\\n'"
      ]
     },
     "execution_count": 3,
     "metadata": {},
     "output_type": "execute_result"
    }
   ],
   "source": [
    "#DataFrame\n",
    "\"\"\"\n",
    "    two-dimensional labeled data structure\n",
    "    similar to a table in database or Excel spreadsheet\n",
    "    it consists of rows & columns where \n",
    "      rows have indices(label)\n",
    "      columns have name (label)\n",
    "\"\"\""
   ]
  },
  {
   "cell_type": "code",
   "execution_count": 6,
   "id": "399749e6-a704-499e-883d-033ee2acb308",
   "metadata": {},
   "outputs": [
    {
     "name": "stdout",
     "output_type": "stream",
     "text": [
      "     Name  Age\n",
      "0    Anil   21\n",
      "1   Ankit   22\n",
      "2  Anjana   23\n"
     ]
    }
   ],
   "source": [
    "import pandas as pd\n",
    "#this is the python dictonary\n",
    "data={\n",
    "    'Name':[\"Anil\",\"Ankit\",\"Anjana\"],\n",
    "    'Age':[21,22,23]\n",
    "    \n",
    "}\n",
    "print(pd.DataFrame(data))"
   ]
  },
  {
   "cell_type": "code",
   "execution_count": 15,
   "id": "fde91e7e-2936-43bf-8741-2f948c74f965",
   "metadata": {},
   "outputs": [
    {
     "name": "stdout",
     "output_type": "stream",
     "text": [
      "             Name  Marks\n",
      "student1     Anil     99\n",
      "student2  Everest     88\n",
      "student3     Alex     78\n",
      "Name     Anil\n",
      "Marks      99\n",
      "Name: student1, dtype: object\n"
     ]
    }
   ],
   "source": [
    "#creating DataFrame custom index \n",
    "import pandas as pd\n",
    "data={\n",
    "    'Name':[\"Anil\",\"Everest\",\"Alex\"],\n",
    "    'Marks':[99,88,78]\n",
    "}\n",
    "df=pd.DataFrame(data, index=[\"student1\",\"student2\",\"student3\"])\n",
    "print(df)\n",
    "\n",
    "# Accessing data using the label (loc)\n",
    "print(df.loc[\"student1\"])"
   ]
  },
  {
   "cell_type": "code",
   "execution_count": null,
   "id": "7492f028-229e-4cfb-9432-e0b0065c3af0",
   "metadata": {},
   "outputs": [],
   "source": []
  }
 ],
 "metadata": {
  "kernelspec": {
   "display_name": "Python 3 (ipykernel)",
   "language": "python",
   "name": "python3"
  },
  "language_info": {
   "codemirror_mode": {
    "name": "ipython",
    "version": 3
   },
   "file_extension": ".py",
   "mimetype": "text/x-python",
   "name": "python",
   "nbconvert_exporter": "python",
   "pygments_lexer": "ipython3",
   "version": "3.13.1"
  }
 },
 "nbformat": 4,
 "nbformat_minor": 5
}

{
 "cells": [
  {
   "cell_type": "code",
   "execution_count": 1,
   "id": "63eadd40-0c9b-4358-b836-4cc2176445a8",
   "metadata": {},
   "outputs": [
    {
     "name": "stdout",
     "output_type": "stream",
     "text": [
      "\n",
      " Original DataFrame:\n",
      "   Name  Age  Score\n",
      "0  Anil   25     88\n",
      "1  Sita   30     95\n",
      "2   Ram   22     70\n",
      "3  Hari   28     85\n"
     ]
    }
   ],
   "source": [
    "# 2_sorting_pandas.py\n",
    "\n",
    "import pandas as pd\n",
    "\n",
    "\n",
    "data = {\n",
    "    \"Name\": [\"Anil\", \"Sita\", \"Ram\", \"Hari\"],\n",
    "    \"Age\": [25, 30, 22, 28],\n",
    "    \"Score\": [88, 95, 70, 85]\n",
    "}\n",
    "df = pd.DataFrame(data)\n",
    "\n",
    "print(\"\\n Original DataFrame:\")\n",
    "print(df)\n"
   ]
  },
  {
   "cell_type": "code",
   "execution_count": 2,
   "id": "e0ed9461-21dd-438b-a360-f451011f54aa",
   "metadata": {},
   "outputs": [
    {
     "name": "stdout",
     "output_type": "stream",
     "text": [
      "\n",
      " Sort by Age (ascending):\n",
      "   Name  Age  Score\n",
      "2   Ram   22     70\n",
      "0  Anil   25     88\n",
      "3  Hari   28     85\n",
      "1  Sita   30     95\n",
      "\n",
      " Sort by Score (descending):\n",
      "   Name  Age  Score\n",
      "1  Sita   30     95\n",
      "0  Anil   25     88\n",
      "3  Hari   28     85\n",
      "2   Ram   22     70\n"
     ]
    }
   ],
   "source": [
    "# Sort by Age (ascending)\n",
    "print(\"\\n Sort by Age (ascending):\")\n",
    "print(df.sort_values(by=\"Age\"))\n",
    "\n",
    "# Sort by Score (descending)\n",
    "print(\"\\n Sort by Score (descending):\")\n",
    "print(df.sort_values(by=\"Score\", ascending=False))"
   ]
  },
  {
   "cell_type": "code",
   "execution_count": 3,
   "id": "cb763344-60cc-4714-bfa8-48b6b297ffe5",
   "metadata": {},
   "outputs": [
    {
     "name": "stdout",
     "output_type": "stream",
     "text": [
      "\n",
      " Sort by Score (desc) and Age (asc):\n",
      "   Name  Age  Score\n",
      "1  Sita   30     95\n",
      "0  Anil   25     88\n",
      "3  Hari   28     85\n",
      "2   Ram   22     70\n"
     ]
    }
   ],
   "source": [
    "\n",
    "# Sort by Score (descending), then Age (ascending)\n",
    "print(\"\\n Sort by Score (desc) and Age (asc):\")\n",
    "print(df.sort_values(by=[\"Score\", \"Age\"], ascending=[False, True]))"
   ]
  },
  {
   "cell_type": "code",
   "execution_count": null,
   "id": "868cf99e-a4bc-4881-962f-73fd91414cf3",
   "metadata": {},
   "outputs": [],
   "source": [
    "# Sort by index (ascending)\n",
    "print(\"\\n Sort by Index (ascending):\")\n",
    "print(df.sort_index())\n",
    "\n",
    "# Sort by index (descending)\n",
    "print(\"\\n Sort by Index (descending):\")\n",
    "print(df.sort_index(ascending=False))\n"
   ]
  },
  {
   "cell_type": "code",
   "execution_count": null,
   "id": "1b93e796-297e-43db-bfa8-a433ea0716fa",
   "metadata": {},
   "outputs": [],
   "source": [
    "\n",
    "# Sort by length of the Name\n",
    "print(\"\\n Sort by Name length:\")\n",
    "print(df.sort_values(by=\"Name\", key=lambda x: x.str.len()))"
   ]
  }
 ],
 "metadata": {
  "kernelspec": {
   "display_name": "Python 3 (ipykernel)",
   "language": "python",
   "name": "python3"
  },
  "language_info": {
   "codemirror_mode": {
    "name": "ipython",
    "version": 3
   },
   "file_extension": ".py",
   "mimetype": "text/x-python",
   "name": "python",
   "nbconvert_exporter": "python",
   "pygments_lexer": "ipython3",
   "version": "3.13.1"
  }
 },
 "nbformat": 4,
 "nbformat_minor": 5
}

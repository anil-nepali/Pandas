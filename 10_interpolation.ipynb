{
 "cells": [
  {
   "cell_type": "code",
   "execution_count": null,
   "id": "f9d85b15-6e4f-4fde-ae9f-eb2215455e90",
   "metadata": {},
   "outputs": [],
   "source": [
    "#Interpolation\n",
    "'''\n",
    "    Interpolation is a technique used to fill missing values in a dataframe \n",
    "    by estaming them based on the existing data.\n",
    "'''\n",
    "\n",
    "#why we use interpolation\n",
    "'''\n",
    "    it hepls proserve data trends rather than breaking them.\n",
    "    it's smarter than just filling with a constant like mean or zero\n",
    "'''"
   ]
  },
  {
   "cell_type": "code",
   "execution_count": 7,
   "id": "5965316f-8e5b-448d-9822-9cf770b350c7",
   "metadata": {},
   "outputs": [
    {
     "name": "stdout",
     "output_type": "stream",
     "text": [
      "   Day  Temperature\n",
      "0    1         30.0\n",
      "1    2          NaN\n",
      "2    3         32.0\n",
      "3    4          NaN\n",
      "4    5         35.0\n",
      "   Day  Temperature\n",
      "0    1         30.0\n",
      "1    2         31.0\n",
      "2    3         32.0\n",
      "3    4         33.5\n",
      "4    5         35.0\n"
     ]
    }
   ],
   "source": [
    "import pandas as pd\n",
    "import numpy as np\n",
    "\n",
    "data={\n",
    "    \"Day\":[1,2,3,4,5],\n",
    "    \"Temperature\":[30,np.nan,32,np.nan,35]\n",
    "}\n",
    "\n",
    "df=pd.DataFrame(data)\n",
    "print(df)\n",
    "\n",
    "\n",
    "#----------------------\n",
    "#Interpolation to fill missing values by estimating between known values\n",
    "\n",
    "df[\"Temperature\"]=df[\"Temperature\"].interpolate()\n",
    "print(df)"
   ]
  },
  {
   "cell_type": "code",
   "execution_count": 8,
   "id": "edbd7d71-bb8d-46ed-9e02-e0a99f873757",
   "metadata": {},
   "outputs": [
    {
     "name": "stdout",
     "output_type": "stream",
     "text": [
      "\n",
      "🔢 Polynomial Interpolation (order=2):\n",
      "0    30.0\n",
      "1    31.0\n",
      "2    32.0\n",
      "3    33.5\n",
      "4    35.0\n",
      "Name: Temperature, dtype: float64\n"
     ]
    }
   ],
   "source": [
    "print(\"\\n🔢 Polynomial Interpolation (order=2):\")\n",
    "print(df[\"Temperature\"].interpolate(method='polynomial', order=2))\n"
   ]
  }
 ],
 "metadata": {
  "kernelspec": {
   "display_name": "Python 3 (ipykernel)",
   "language": "python",
   "name": "python3"
  },
  "language_info": {
   "codemirror_mode": {
    "name": "ipython",
    "version": 3
   },
   "file_extension": ".py",
   "mimetype": "text/x-python",
   "name": "python",
   "nbconvert_exporter": "python",
   "pygments_lexer": "ipython3",
   "version": "3.13.1"
  }
 },
 "nbformat": 4,
 "nbformat_minor": 5
}

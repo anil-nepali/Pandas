{
 "cells": [
  {
   "cell_type": "code",
   "execution_count": 14,
   "id": "f176574f-e6cd-486b-be94-22b3be3fc503",
   "metadata": {},
   "outputs": [
    {
     "name": "stdout",
     "output_type": "stream",
     "text": [
      "    student_id  age  gender  study_hours_per_day  social_media_hours  netflix_hours part_time_job  attendance_percentage  sleep_hours diet_quality  exercise_frequency parental_education_level internet_quality  mental_health_rating extracurricular_participation  exam_score\n",
      "0        S1000   23  Female                  0.0                 1.2            1.1            No                   85.0          8.0         Fair                   6                   Master          Average                     8                           Yes        56.2\n",
      "92       S1092   18    Male                  0.5                 0.8            2.5           Yes                   97.9          4.1         Poor                   4              High School             Good                     3                            No        43.9\n",
      "126      S1126   18    Male                  0.7                 3.4            1.4           Yes                   81.6          6.1         Poor                   1              High School             Poor                     8                            No        42.4\n",
      "129      S1129   20    Male                  0.3                 4.2            1.5            No                   83.0          6.2         Good                   1              High School          Average                     3                           Yes        26.8\n",
      "165      S1165   17    Male                  0.5                 3.3            2.3            No                   90.0          6.8         Fair                   4              High School             Good                     5                            No        39.0\n",
      "186      S1186   18  Female                  0.0                 1.9            1.5            No                   82.4          5.6         Fair                   3                 Bachelor          Average                     8                            No        55.2\n",
      "191      S1191   19    Male                  0.8                 3.2            1.4            No                   84.9          8.3         Good                   1                   Master          Average                     6                            No        45.1\n",
      "195      S1195   18  Female                  0.0                 2.8            1.6            No                   93.4          5.8         Fair                   0                 Bachelor             Good                     5                            No        26.7\n",
      "265      S1265   18  Female                  0.6                 3.1            3.0            No                   79.9          5.2         Good                   1                 Bachelor             Good                     4                            No        18.4\n",
      "295      S1295   20  Female                  0.9                 4.3            4.1            No                   90.1          6.1         Good                   6              High School          Average                     4                            No        27.6\n",
      "327      S1327   23    Male                  0.9                 2.4            2.5            No                   89.2          6.9         Fair                   0              High School             Poor                     1                            No        23.1\n",
      "353      S1353   24  Female                  0.7                 2.2            0.0            No                   94.1          6.1         Fair                   2              High School             Good                     6                            No        48.7\n",
      "371      S1371   24    Male                  0.8                 1.4            3.8           Yes                   76.5          7.5         Good                   2                 Bachelor          Average                    10                            No        36.0\n",
      "379      S1379   17    Male                  0.0                 2.6            1.6            No                   82.4          7.4         Good                   5              High School          Average                     3                            No        32.9\n",
      "402      S1402   19    Male                  0.0                 1.4            0.0            No                   81.5          6.7         Good                   5              High School             Good                     8                           Yes        50.1\n",
      "431      S1431   22  Female                  0.0                 2.0            2.5            No                   82.0          3.7         Poor                   4                 Bachelor          Average                     2                            No        29.9\n",
      "434      S1434   20    Male                  0.0                 3.5            3.2            No                   72.6          6.2         Fair                   3              High School             Good                     2                            No        26.2\n",
      "502      S1502   21  Female                  0.3                 3.2            2.2            No                   88.4          7.1         Poor                   3                      NaN          Average                     4                           Yes        34.0\n",
      "552      S1552   21  Female                  0.2                 3.1            2.1           Yes                   77.9          7.0         Good                   5                   Master             Good                     4                           Yes        31.5\n",
      "590      S1590   17  Female                  0.0                 4.6            1.2            No                   96.2          6.1         Poor                   6                 Bachelor          Average                     7                            No        42.0\n",
      "593      S1593   20  Female                  0.8                 2.3            1.3           Yes                   83.9          5.5         Poor                   3                 Bachelor             Good                     6                            No        34.7\n",
      "630      S1630   17  Female                  0.7                 3.2            2.4            No                   95.9          8.3         Good                   1                   Master          Average                    10                           Yes        50.3\n",
      "644      S1644   24    Male                  0.8                 2.4            0.8            No                  100.0          6.2         Fair                   3                 Bachelor          Average                     2                           Yes        35.3\n",
      "656      S1656   23    Male                  0.3                 3.1            1.4           Yes                   77.5          8.3         Good                   3                 Bachelor             Good                     5                            No        36.1\n",
      "681      S1681   21    Male                  0.7                 0.7            1.0            No                   81.7          9.3         Poor                   6                      NaN          Average                     3                            No        51.5\n",
      "703      S1703   24    Male                  0.9                 3.3            1.6           Yes                   87.3          6.5         Poor                   6                 Bachelor             Good                     5                            No        37.9\n",
      "754      S1754   18  Female                  0.8                 3.3            0.2            No                   85.7          7.1         Good                   4                 Bachelor             Poor                     9                            No        51.8\n",
      "760      S1760   20    Male                  0.5                 1.6            3.8           Yes                   81.0          7.7         Good                   4                      NaN          Average                     3                           Yes        30.2\n",
      "766      S1766   21    Male                  0.0                 2.4            2.9            No                   85.6          3.8         Poor                   3                      NaN          Average                     8                            No        30.5\n",
      "790      S1790   22    Male                  0.8                 3.9            2.4            No                   62.9          5.5         Fair                   0                   Master             Good                     5                            No        31.5\n",
      "796      S1796   21    Male                  0.3                 3.6            1.7            No                   95.2          6.7         Poor                   3                 Bachelor          Average                     4                           Yes        33.6\n",
      "811      S1811   19  Female                  0.0                 2.4            0.6           Yes                   87.0          7.1         Good                   4              High School          Average                     5                            No        53.0\n",
      "844      S1844   21  Female                  0.7                 3.2            0.3           Yes                   72.7          7.9         Fair                   2              High School             Good                     7                           Yes        47.2\n",
      "857      S1857   19    Male                  0.5                 0.0            2.6           Yes                   86.4          5.8         Poor                   5                   Master             Poor                     8                           Yes        45.0\n",
      "864      S1864   20  Female                  0.0                 0.3            1.1           Yes                   88.0          5.4         Fair                   1              High School          Average                    10                           Yes        53.3\n",
      "879      S1879   21  Female                  0.8                 2.3            1.0            No                   91.8          6.7         Fair                   2              High School             Poor                     6                            No        44.3\n",
      "906      S1906   18  Female                  0.0                 4.6            2.0           Yes                   70.1          8.7         Fair                   3                 Bachelor          Average                    10                            No        43.4\n",
      "923      S1923   23    Male                  0.1                 1.2            0.0            No                   78.7          7.6         Poor                   5              High School             Good                     9                            No        53.4\n",
      "958      S1958   18    Male                  0.0                 3.8            1.3           Yes                   89.5          5.7         Good                   5              High School          Average                     5                            No        31.1\n"
     ]
    }
   ],
   "source": [
    "import pandas as pd\n",
    "import numpy as np\n",
    "\n",
    "df=pd.read_csv(\"student_habits_performance.csv\")\n",
    "#print(df.to_string())\n",
    "#print(df[[\"exam_score\", \"study_hours_per_day\"]])\n",
    "high_scores = df[df[\"exam_score\"] > 90]\n",
    "#print(high_scores)\n",
    "\n",
    "social_media=df[df[\"study_hours_per_day\"]<1]\n",
    "print(social_media.to_string())"
   ]
  }
 ],
 "metadata": {
  "kernelspec": {
   "display_name": "Python 3 (ipykernel)",
   "language": "python",
   "name": "python3"
  },
  "language_info": {
   "codemirror_mode": {
    "name": "ipython",
    "version": 3
   },
   "file_extension": ".py",
   "mimetype": "text/x-python",
   "name": "python",
   "nbconvert_exporter": "python",
   "pygments_lexer": "ipython3",
   "version": "3.13.1"
  }
 },
 "nbformat": 4,
 "nbformat_minor": 5
}

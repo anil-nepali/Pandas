{
 "cells": [
  {
   "cell_type": "code",
   "execution_count": 12,
   "id": "261b606b-562b-4b18-9548-82366e80caf3",
   "metadata": {},
   "outputs": [
    {
     "name": "stdout",
     "output_type": "stream",
     "text": [
      "pandas is sucessfully installed\n"
     ]
    }
   ],
   "source": [
    "#Checking if my pandas can run or not\n",
    "import pandas as pd\n",
    "print(\"pandas is sucessfully installed\")"
   ]
  },
  {
   "cell_type": "code",
   "execution_count": 6,
   "id": "5d481825-32fe-4af0-8118-8d99166ac7ef",
   "metadata": {},
   "outputs": [
    {
     "data": {
      "text/plain": [
       "'\\n    Pandas is a powerful,fast and flexible open-source python libaray\\n    built specifically for data analysis and data manipulation\\n'"
      ]
     },
     "execution_count": 6,
     "metadata": {},
     "output_type": "execute_result"
    }
   ],
   "source": [
    "#what is pandas ?\n",
    "'''\n",
    "    Pandas is a powerful,fast and flexible open-source python libaray\n",
    "    built specifically for data analysis and data manipulation.\n",
    "'''"
   ]
  },
  {
   "cell_type": "code",
   "execution_count": null,
   "id": "d88fd68b-381a-4493-a115-14c76865a324",
   "metadata": {},
   "outputs": [],
   "source": [
    "#what is data Manipulation and Analysis?\n",
    "\"\"\"\n",
    "Data Manipulation:\n",
    "    The process of modifying,cleaning,transforming,preparing or rearranging data\n",
    "    make it more useful and easier to understand.\n",
    "    \n",
    "    It includes task such as:\n",
    "    Filtering:selecting specific data points.\n",
    "    Sorting:organizing data in a particular order.\n",
    "    Grouping: Aggregating data by categories.\n",
    "    Merging:Combining data from different sources.\n",
    "\"\"\"\n",
    "\n",
    "\"\"\"\n",
    "Data Analysis:\n",
    "    The process of extracting patterns,trends and insights from the data to \n",
    "    solve problem or make decisions.\n",
    "\n",
    "    It includes tasks such as:\n",
    "    Exploratory data analysis(EDA):Understading the data using statistical graphics and plots.\n",
    "    Statistical Analysis:Using Mathematical models to understand trends and patterns.\n",
    "    predictive Analysis: Using data to forecast and future trends.\n",
    "    \n",
    "\"\"\""
   ]
  },
  {
   "cell_type": "code",
   "execution_count": 11,
   "id": "ace3b824-7c57-4787-9f09-cbdad9c86c69",
   "metadata": {},
   "outputs": [
    {
     "name": "stdout",
     "output_type": "stream",
     "text": [
      "2.2.3\n"
     ]
    }
   ],
   "source": [
    "#to check the Version of pandas libarary\n",
    "import pandas as pd\n",
    "print(pd.__version__)\n"
   ]
  },
  {
   "cell_type": "code",
   "execution_count": null,
   "id": "f38bca7c-df3a-4473-a9c0-3e9b41f5debd",
   "metadata": {},
   "outputs": [],
   "source": []
  }
 ],
 "metadata": {
  "kernelspec": {
   "display_name": "Python 3 (ipykernel)",
   "language": "python",
   "name": "python3"
  },
  "language_info": {
   "codemirror_mode": {
    "name": "ipython",
    "version": 3
   },
   "file_extension": ".py",
   "mimetype": "text/x-python",
   "name": "python",
   "nbconvert_exporter": "python",
   "pygments_lexer": "ipython3",
   "version": "3.13.1"
  }
 },
 "nbformat": 4,
 "nbformat_minor": 5
}

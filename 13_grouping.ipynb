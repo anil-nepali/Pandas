{
 "cells": [
  {
   "cell_type": "code",
   "execution_count": 2,
   "id": "eb3078ba-f657-42c5-bfca-57ff97e533df",
   "metadata": {},
   "outputs": [
    {
     "name": "stdout",
     "output_type": "stream",
     "text": [
      "\n",
      "Employee Data:\n",
      "  Department Employee  Salary\n",
      "0         IT     Anil   60000\n",
      "1         HR     Sita   50000\n",
      "2         IT      Ram   65000\n",
      "3         HR     Gita   52000\n",
      "4    Finance     Hari   70000\n",
      "5    Finance     Nita   72000\n",
      "6         IT   Bikash   62000\n"
     ]
    }
   ],
   "source": [
    "# grouping_pandas.py\n",
    "\n",
    "\n",
    "import pandas as pd\n",
    "\n",
    "# Sample data\n",
    "data = {\n",
    "    \"Department\": [\"IT\", \"HR\", \"IT\", \"HR\", \"Finance\", \"Finance\", \"IT\"],\n",
    "    \"Employee\": [\"Anil\", \"Sita\", \"Ram\", \"Gita\", \"Hari\", \"Nita\", \"Bikash\"],\n",
    "    \"Salary\": [60000, 50000, 65000, 52000, 70000, 72000, 62000]\n",
    "}\n",
    "\n",
    "df = pd.DataFrame(data)\n",
    "\n",
    "print(\"\\nEmployee Data:\")\n",
    "print(df)\n",
    "\n"
   ]
  },
  {
   "cell_type": "code",
   "execution_count": 3,
   "id": "f15dc540-32c3-428d-b15e-555a658e2ee9",
   "metadata": {},
   "outputs": [
    {
     "name": "stdout",
     "output_type": "stream",
     "text": [
      "\n",
      " Average Salary per Department:\n",
      "Department\n",
      "Finance    71000.000000\n",
      "HR         51000.000000\n",
      "IT         62333.333333\n",
      "Name: Salary, dtype: float64\n"
     ]
    }
   ],
   "source": [
    "#  1. Group by Department\n",
    "\n",
    "print(\"\\n Average Salary per Department:\")\n",
    "group_avg = df.groupby(\"Department\")[\"Salary\"].mean()\n",
    "print(group_avg)"
   ]
  },
  {
   "cell_type": "code",
   "execution_count": 4,
   "id": "834fefc5-7cfd-4832-893a-2b223d0d0007",
   "metadata": {},
   "outputs": [
    {
     "name": "stdout",
     "output_type": "stream",
     "text": [
      "\n",
      " Salary Statistics per Department (count, sum, mean):\n",
      "            count     sum          mean\n",
      "Department                             \n",
      "Finance         2  142000  71000.000000\n",
      "HR              2  102000  51000.000000\n",
      "IT              3  187000  62333.333333\n"
     ]
    }
   ],
   "source": [
    "# 2. Group and show multiple stats\n",
    "\n",
    "print(\"\\n Salary Statistics per Department (count, sum, mean):\")\n",
    "group_stats = df.groupby(\"Department\")[\"Salary\"].agg([\"count\", \"sum\", \"mean\"])\n",
    "print(group_stats)"
   ]
  },
  {
   "cell_type": "code",
   "execution_count": 5,
   "id": "0f379e06-d4a4-41dd-a153-2d6705a96699",
   "metadata": {},
   "outputs": [
    {
     "name": "stdout",
     "output_type": "stream",
     "text": [
      "\n",
      " Grouping by Department and Salary Level:\n",
      "  Department Salary Level  Count\n",
      "0    Finance          Low      0\n",
      "1    Finance       Medium      0\n",
      "2    Finance         High      2\n",
      "3         HR          Low      2\n",
      "4         HR       Medium      0\n",
      "5         HR         High      0\n",
      "6         IT          Low      0\n",
      "7         IT       Medium      3\n",
      "8         IT         High      0\n"
     ]
    },
    {
     "name": "stderr",
     "output_type": "stream",
     "text": [
      "C:\\Users\\mysel\\AppData\\Local\\Temp\\ipykernel_10424\\2835729705.py:5: FutureWarning: The default of observed=False is deprecated and will be changed to True in a future version of pandas. Pass observed=False to retain current behavior or observed=True to adopt the future default and silence this warning.\n",
      "  grouped = df.groupby([\"Department\", \"Salary Level\"]).size().reset_index(name=\"Count\")\n"
     ]
    }
   ],
   "source": [
    "#  3. Grouping multiple columns\n",
    "# (Here, each department + salary range group — demonstration)\n",
    "df[\"Salary Level\"] = pd.cut(df[\"Salary\"], bins=[0, 55000, 65000, 75000], labels=[\"Low\", \"Medium\", \"High\"])\n",
    "print(\"\\n Grouping by Department and Salary Level:\")\n",
    "grouped = df.groupby([\"Department\", \"Salary Level\"]).size().reset_index(name=\"Count\")\n",
    "print(grouped)"
   ]
  },
  {
   "cell_type": "code",
   "execution_count": 6,
   "id": "923b068e-1a90-4021-842a-13658575cb5a",
   "metadata": {},
   "outputs": [
    {
     "name": "stdout",
     "output_type": "stream",
     "text": [
      "\n",
      " Looping through each group in Department:\n",
      "\n",
      "Department: Finance\n",
      "  Department Employee  Salary Salary Level\n",
      "4    Finance     Hari   70000         High\n",
      "5    Finance     Nita   72000         High\n",
      "\n",
      "Department: HR\n",
      "  Department Employee  Salary Salary Level\n",
      "1         HR     Sita   50000          Low\n",
      "3         HR     Gita   52000          Low\n",
      "\n",
      "Department: IT\n",
      "  Department Employee  Salary Salary Level\n",
      "0         IT     Anil   60000       Medium\n",
      "2         IT      Ram   65000       Medium\n",
      "6         IT   Bikash   62000       Medium\n"
     ]
    }
   ],
   "source": [
    "#  4. Looping through groups (Advanced)\n",
    "\n",
    "print(\"\\n Looping through each group in Department:\")\n",
    "for dept, group in df.groupby(\"Department\"):\n",
    "    print(f\"\\nDepartment: {dept}\")\n",
    "    print(group)"
   ]
  },
  {
   "cell_type": "code",
   "execution_count": null,
   "id": "735193d2-f3f4-4763-9171-d1fb66dce1ec",
   "metadata": {},
   "outputs": [],
   "source": []
  }
 ],
 "metadata": {
  "kernelspec": {
   "display_name": "Python 3 (ipykernel)",
   "language": "python",
   "name": "python3"
  },
  "language_info": {
   "codemirror_mode": {
    "name": "ipython",
    "version": 3
   },
   "file_extension": ".py",
   "mimetype": "text/x-python",
   "name": "python",
   "nbconvert_exporter": "python",
   "pygments_lexer": "ipython3",
   "version": "3.13.1"
  }
 },
 "nbformat": 4,
 "nbformat_minor": 5
}

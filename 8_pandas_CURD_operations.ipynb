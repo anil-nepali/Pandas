{
 "cells": [
  {
   "cell_type": "code",
   "execution_count": 46,
   "id": "a934ac4b-c8b8-4081-a7d0-af2a847511ab",
   "metadata": {},
   "outputs": [
    {
     "data": {
      "text/plain": [
       "'\\n    CURD stands for Create,Update,Read and Delete\\n'"
      ]
     },
     "execution_count": 46,
     "metadata": {},
     "output_type": "execute_result"
    }
   ],
   "source": [
    "import pandas as pd\n",
    "#in this section we will learn about the CURD operations in pandas\n",
    "\"\"\"\n",
    "    CURD stands for Create,Update,Read and Delete\n",
    "\"\"\"\n"
   ]
  },
  {
   "cell_type": "code",
   "execution_count": 85,
   "id": "96990b11-cd6e-44de-988f-b4c361efbf92",
   "metadata": {},
   "outputs": [
    {
     "name": "stdout",
     "output_type": "stream",
     "text": [
      "           Name   IPL Team  Age  Brand Value\n",
      "0  Rohit Sharma     Mumbai   38   5450000000\n",
      "1      Ms Dhone    Chennai   43  12730000000\n",
      "2   Virat Kholi  Bangeluru   37   3085000000\n"
     ]
    }
   ],
   "source": [
    "\n",
    "\n",
    "# 🟢 CREATE: Create a DataFrame\n",
    "\n",
    "data={\n",
    "    \"Name\":[\"Rohit Sharma\",\"Ms Dhone\",\"Virat Kholi\"],\n",
    "    \"IPL Team\":[\"Mumbai\",\"Chennai\",\"Bangeluru\"],\n",
    "    \"Age\":[38,43,37],\n",
    "    \"Brand Value\": [5450000000, 12730000000, 3085000000]   #salary in million dolor\n",
    "}\n",
    "df=pd.DataFrame(data)\n",
    "print(df)"
   ]
  },
  {
   "cell_type": "code",
   "execution_count": 75,
   "id": "f72d7cc1-9c0f-43be-a465-04f2b36ac36d",
   "metadata": {},
   "outputs": [
    {
     "name": "stdout",
     "output_type": "stream",
     "text": [
      "           Name   IPL Team  Age  Brand Value         Bonus\n",
      "0  Rohit Sharma     Mumbai   38   5450000000  5.450000e+08\n",
      "1      Ms Dhone    Chennai   43  12730000000  1.273000e+09\n",
      "2   Virat Kholi  Bangeluru   37   3085000000  3.085000e+08\n"
     ]
    }
   ],
   "source": [
    "\n",
    "# 🟡 UPDATE: Update data\n",
    "# -------------------------\n",
    "# Add a new column\n",
    "\n",
    "df[\"Bonus\"]=df[\"Brand Value\"]*0.1  \n",
    "print(df)\n",
    "\n"
   ]
  },
  {
   "cell_type": "code",
   "execution_count": 49,
   "id": "4de92491-0037-45e1-80f2-f76f4092c25f",
   "metadata": {},
   "outputs": [
    {
     "name": "stdout",
     "output_type": "stream",
     "text": [
      "   Jersey Number          Name   IPL Team  Age  Brand Value         Bonus\n",
      "0             45  Rohit Sharma     Mumbai   38   5450000000  5.450000e+08\n",
      "1              7      Ms Dhone    Chennai   43  12730000000  1.273000e+09\n",
      "2             18   Virat Kholi  Bangeluru   37   3085000000  3.085000e+08\n"
     ]
    }
   ],
   "source": [
    "# 🟡 UPDATE: Update data\n",
    "# -------------------------\n",
    "# Add a new column\n",
    "df.insert(0, \"Jersey Number\", [45, 7, 18])\n",
    "print(df)\n"
   ]
  },
  {
   "cell_type": "code",
   "execution_count": 61,
   "id": "ce823f0d-4f3b-4b20-a5d5-65a655350bbf",
   "metadata": {},
   "outputs": [
    {
     "name": "stdout",
     "output_type": "stream",
     "text": [
      "           Name   IPL Team  Age  Brand Value\n",
      "0  Rohit Sharma     Mumbai   38   5450000000\n",
      "1      Ms Dhone    Chennai   44  12730000000\n",
      "2   Virat Kholi  Bangeluru   37   3085000000\n"
     ]
    }
   ],
   "source": [
    "# -------------------------\n",
    "# 🟡 UPDATE: Update data\n",
    "# -------------------------\n",
    "# updated a specific cell\n",
    "\n",
    "# Update Age of index 2\n",
    "# Now you can update a specific cell in \"Age\" column\n",
    "df.loc[1, \"Age\"] = 44\n",
    "\n",
    "print(df)"
   ]
  },
  {
   "cell_type": "code",
   "execution_count": 68,
   "id": "de1a5cda-a25d-4e04-baaf-945ca679a4b8",
   "metadata": {},
   "outputs": [
    {
     "name": "stdout",
     "output_type": "stream",
     "text": [
      "           Name   IPL Team  Age   Brand Value\n",
      "0  Rohit Sharma     Mumbai   38  5.722500e+09\n",
      "1      Ms Dhone    Chennai   43  1.336650e+10\n",
      "2   Virat Kholi  Bangeluru   37  3.239250e+09\n"
     ]
    }
   ],
   "source": [
    "#increasing salary by 5%\n",
    "df[\"Brand Value\"]=df[\"Brand Value\"] *1.05\n",
    "print(df)"
   ]
  },
  {
   "cell_type": "code",
   "execution_count": 88,
   "id": "ac636f31-ae8a-41dc-b140-58f0f8bfc65a",
   "metadata": {},
   "outputs": [
    {
     "name": "stdout",
     "output_type": "stream",
     "text": [
      "           Name   IPL Team  Age\n",
      "0  Rohit Sharma     Mumbai   38\n",
      "1      Ms Dhone    Chennai   43\n",
      "2   Virat Kholi  Bangeluru   37\n"
     ]
    }
   ],
   "source": [
    "# Delete: Drop the \"Brand Value\" column\n",
    "df.drop(columns=[\"Brand Value\"], inplace = True)\n",
    "print(df)"
   ]
  },
  {
   "cell_type": "code",
   "execution_count": 93,
   "id": "5359d50d-562d-4c83-aecd-b6d3fa9dab5b",
   "metadata": {},
   "outputs": [
    {
     "name": "stdout",
     "output_type": "stream",
     "text": [
      "           Name   IPL Team  Age\n",
      "0  Rohit Sharma     Mumbai   38\n",
      "2   Virat Kholi  Bangeluru   37\n"
     ]
    }
   ],
   "source": [
    "#Delete : Drop row where age is breater than 40\n",
    "df=df[df[\"Age\"]<=40]\n",
    "print(df)"
   ]
  },
  {
   "cell_type": "code",
   "execution_count": 94,
   "id": "f3ddd9f8-37c6-4fe7-9a4f-22521efc8f32",
   "metadata": {},
   "outputs": [
    {
     "name": "stdout",
     "output_type": "stream",
     "text": [
      "           Name   IPL Team  Age\n",
      "0  Rohit Sharma     Mumbai   38\n",
      "2   Virat Kholi  Bangeluru   37\n"
     ]
    }
   ],
   "source": [
    "#read operation is done in ...\n",
    "#print(df)\n"
   ]
  }
 ],
 "metadata": {
  "kernelspec": {
   "display_name": "Python 3 (ipykernel)",
   "language": "python",
   "name": "python3"
  },
  "language_info": {
   "codemirror_mode": {
    "name": "ipython",
    "version": 3
   },
   "file_extension": ".py",
   "mimetype": "text/x-python",
   "name": "python",
   "nbconvert_exporter": "python",
   "pygments_lexer": "ipython3",
   "version": "3.13.1"
  }
 },
 "nbformat": 4,
 "nbformat_minor": 5
}

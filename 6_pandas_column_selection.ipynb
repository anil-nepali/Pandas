{
 "cells": [
  {
   "cell_type": "code",
   "execution_count": null,
   "id": "7dfc2f20-353f-4e15-8cf2-27a9cfa0d1e0",
   "metadata": {},
   "outputs": [],
   "source": [
    "#Selecting specific columns\n",
    "\"\"\"\n",
    "    In pandas, selecting specific columns allows you to focus on only the \n",
    "    relevant parts of your datasets. With the help of selecting specific columns we can:\n",
    "    select a single column -> Return a series[1D] df['column']\n",
    "    select a multiple column -> Return a DataFrame[2D] df[['column1','column2',...]]\n",
    "    \n",
    "\"\"\""
   ]
  },
  {
   "cell_type": "code",
   "execution_count": 4,
   "id": "49cb810a-5b5f-4fc2-8b39-9ba3ef6167fa",
   "metadata": {},
   "outputs": [
    {
     "name": "stdout",
     "output_type": "stream",
     "text": [
      "              Name  Jersey NO                    Ipl team\n",
      "0     Rohit Sharma         45               Mumbai Indies\n",
      "1         Ms Dhoni          7         Chennai Super Kings\n",
      "2    Ab de villers         17  Royal Challengers Bengluru\n",
      "3  Jisprit Bumrah          93               Mumbai Indies\n",
      "0       Rohit Sharma\n",
      "1           Ms Dhoni\n",
      "2      Ab de villers\n",
      "3    Jisprit Bumrah \n",
      "Name: Name, dtype: object\n",
      "              Name                    Ipl team\n",
      "0     Rohit Sharma               Mumbai Indies\n",
      "1         Ms Dhoni         Chennai Super Kings\n",
      "2    Ab de villers  Royal Challengers Bengluru\n",
      "3  Jisprit Bumrah                Mumbai Indies\n"
     ]
    }
   ],
   "source": [
    "import pandas as pd\n",
    "\n",
    "data = {\n",
    "    'Name': [\"Rohit Sharma\", \"Ms Dhoni\", \"Ab de villers\", \"Jisprit Bumrah \"],\n",
    "    'Jersey NO': [45, 7, 17, 93],\n",
    "    'Ipl team': [\"Mumbai Indies\", \"Chennai Super Kings\", \"Royal Challengers Bengluru\", \"Mumbai Indies\"]\n",
    "}\n",
    "\n",
    "df = pd.DataFrame(data)\n",
    "\n",
    "print(df)  \n",
    "# Shows full DataFrame\n",
    "print(df['Name'])             # Selects single column → Series (1D)\n",
    "print(df[['Name', 'Ipl team']]) # Selects multiple columns → DataFrame (2D)\n"
   ]
  }
 ],
 "metadata": {
  "kernelspec": {
   "display_name": "Python 3 (ipykernel)",
   "language": "python",
   "name": "python3"
  },
  "language_info": {
   "codemirror_mode": {
    "name": "ipython",
    "version": 3
   },
   "file_extension": ".py",
   "mimetype": "text/x-python",
   "name": "python",
   "nbconvert_exporter": "python",
   "pygments_lexer": "ipython3",
   "version": "3.13.1"
  }
 },
 "nbformat": 4,
 "nbformat_minor": 5
}

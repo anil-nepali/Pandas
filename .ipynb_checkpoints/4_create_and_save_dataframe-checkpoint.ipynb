{
 "cells": [
  {
   "cell_type": "code",
   "execution_count": 4,
   "id": "09397d07-d9f8-4896-91c2-a4429bfbf048",
   "metadata": {},
   "outputs": [
    {
     "name": "stdout",
     "output_type": "stream",
     "text": [
      "     Name  Age        City\n",
      "0    Anil   22  Basundhara\n",
      "1   Amish   21        RNAC\n",
      "2  Kshitz   23    Kritipur\n"
     ]
    }
   ],
   "source": [
    "#Creating a pandas dataframe using dictonary and then save it to csv,excel or json file\n",
    "import pandas as pd\n",
    "\n",
    "#creating dictonary\n",
    "data={\n",
    "    'Name':['Anil','Amish','Kshitz'],\n",
    "    'Age':[22,21,23],\n",
    "    'City':['Basundhara','RNAC','Kritipur']\n",
    "}\n",
    "#create dataframe\n",
    "df=pd.DataFrame(data)\n",
    "\n",
    "#display the dataframe\n",
    "print(df)\n",
    "df.to_csv(\"output.csv\", index=False)"
   ]
  }
 ],
 "metadata": {
  "kernelspec": {
   "display_name": "Python 3 (ipykernel)",
   "language": "python",
   "name": "python3"
  },
  "language_info": {
   "codemirror_mode": {
    "name": "ipython",
    "version": 3
   },
   "file_extension": ".py",
   "mimetype": "text/x-python",
   "name": "python",
   "nbconvert_exporter": "python",
   "pygments_lexer": "ipython3",
   "version": "3.13.1"
  }
 },
 "nbformat": 4,
 "nbformat_minor": 5
}

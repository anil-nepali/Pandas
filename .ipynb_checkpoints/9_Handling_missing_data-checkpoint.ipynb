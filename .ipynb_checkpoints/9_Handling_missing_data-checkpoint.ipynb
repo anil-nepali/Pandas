{
 "cells": [
  {
   "cell_type": "code",
   "execution_count": null,
   "id": "910eeda1-b177-4160-a32c-7b1c9ad3f5f6",
   "metadata": {},
   "outputs": [],
   "source": [
    "#Handling Missing data in Pandas\n",
    "\"\"\"\n",
    "    Missing data can be represent using two ways\n",
    "    nan(Not a Number)\n",
    "    None(for object data types)\n",
    "    -->while handling missing data, firstly we should learn what and when \n",
    "    exactly data is missed\n",
    "\"\"\""
   ]
  },
  {
   "cell_type": "code",
   "execution_count": 4,
   "id": "d48a9220-50b5-4461-8714-55383303bc0e",
   "metadata": {},
   "outputs": [
    {
     "name": "stdout",
     "output_type": "stream",
     "text": [
      "       Country     Capital  Pouplation(Millions)\n",
      "0        Nepal   Kathmandu                  30.0\n",
      "1      America  Washington                 331.0\n",
      "2         None        None                   NaN\n",
      "3  Switzerland        Bern                   8.7\n",
      "4        India        None                1391.0\n"
     ]
    }
   ],
   "source": [
    "import pandas as pd\n",
    "import numpy as np\n",
    "data={\n",
    "    \"Country\":[\"Nepal\",\"America\",None,\"Switzerland\",\"India\"],\n",
    "    \"Capital\":[\"Kathmandu\",\"Washington\",None,\"Bern\",None],\n",
    "    \"Pouplation(Millions)\":[30,331,np.nan,8.7,1391]\n",
    "    \n",
    "}\n",
    "df=pd.DataFrame(data)\n",
    "print(df)"
   ]
  },
  {
   "cell_type": "code",
   "execution_count": 10,
   "id": "08494b48-5b12-465b-bd79-15eebc0fb57e",
   "metadata": {},
   "outputs": [
    {
     "name": "stdout",
     "output_type": "stream",
     "text": [
      "\n",
      " Count of Missing value in each Column:\n",
      "\n",
      "   Country  Capital  Pouplation(Millions)\n",
      "0    False    False                 False\n",
      "1    False    False                 False\n",
      "2     True     True                  True\n",
      "3    False    False                 False\n",
      "4    False     True                 False\n"
     ]
    },
    {
     "data": {
      "text/plain": [
       "'when false is in output..the data is not missing \\n    and when True is shown the data is missing\\n'"
      ]
     },
     "execution_count": 10,
     "metadata": {},
     "output_type": "execute_result"
    }
   ],
   "source": [
    "#Detect Missing Values\n",
    "print(\"\\n Count of Missing value in each Column:\\n\")\n",
    "print(df.isnull())\n",
    "\n",
    "\"\"\"when false is in output..the data is not missing \n",
    "    and when True is shown the data is missing\n",
    "\"\"\""
   ]
  },
  {
   "cell_type": "code",
   "execution_count": 9,
   "id": "78b0d0d8-c4de-4bbd-a725-00b785cf64ca",
   "metadata": {},
   "outputs": [
    {
     "name": "stdout",
     "output_type": "stream",
     "text": [
      "\n",
      " Count of missing values in Each Column:\n",
      "\n",
      "Country                 1\n",
      "Capital                 2\n",
      "Pouplation(Millions)    1\n",
      "dtype: int64\n"
     ]
    }
   ],
   "source": [
    "#in each column how many number of values are missing\n",
    "print(\"\\n Count of missing values in Each Column:\\n\")\n",
    "print(df.isnull().sum())"
   ]
  },
  {
   "cell_type": "code",
   "execution_count": 11,
   "id": "47ac9fef-4523-496e-80a6-f2b797176dd0",
   "metadata": {},
   "outputs": [
    {
     "name": "stdout",
     "output_type": "stream",
     "text": [
      "       Country     Capital  Pouplation(Millions)\n",
      "0        Nepal   Kathmandu                  30.0\n",
      "1      America  Washington                 331.0\n",
      "3  Switzerland        Bern                   8.7\n"
     ]
    }
   ],
   "source": [
    "#Drop Missing data\n",
    "#Delete  columns or rows missing value \n",
    "df.dropna(inplace=True)\n",
    "print(df)"
   ]
  },
  {
   "cell_type": "code",
   "execution_count": 12,
   "id": "c902e97a-0c69-4972-bd2b-0f66caeb27e2",
   "metadata": {},
   "outputs": [
    {
     "name": "stdout",
     "output_type": "stream",
     "text": [
      "\n",
      " Drop columns with any Missing Value:\n",
      "\n",
      "       Country     Capital  Pouplation(Millions)\n",
      "0        Nepal   Kathmandu                  30.0\n",
      "1      America  Washington                 331.0\n",
      "3  Switzerland        Bern                   8.7\n"
     ]
    }
   ],
   "source": [
    "print(\"\\n Drop columns with any Missing Value:\\n\")\n",
    "print(df.dropna(axis=1))"
   ]
  }
 ],
 "metadata": {
  "kernelspec": {
   "display_name": "Python 3 (ipykernel)",
   "language": "python",
   "name": "python3"
  },
  "language_info": {
   "codemirror_mode": {
    "name": "ipython",
    "version": 3
   },
   "file_extension": ".py",
   "mimetype": "text/x-python",
   "name": "python",
   "nbconvert_exporter": "python",
   "pygments_lexer": "ipython3",
   "version": "3.13.1"
  }
 },
 "nbformat": 4,
 "nbformat_minor": 5
}

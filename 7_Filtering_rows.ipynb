{
 "cells": [
  {
   "cell_type": "code",
   "execution_count": null,
   "id": "89b73bc8-0cac-48da-9572-92cc75c4ffdb",
   "metadata": {},
   "outputs": [],
   "source": [
    "#Filtering specific rows in pandas\n",
    "\"\"\"\n",
    "    Filtering Means selecting specific rows from a dataframe \n",
    "    that match certain condition.\n",
    "\"\"\"\n"
   ]
  },
  {
   "cell_type": "code",
   "execution_count": 3,
   "id": "9c08e2eb-fb22-42b7-9629-6ca50e25d6f1",
   "metadata": {},
   "outputs": [
    {
     "data": {
      "text/plain": [
       "'\\n'"
      ]
     },
     "execution_count": 3,
     "metadata": {},
     "output_type": "execute_result"
    }
   ],
   "source": [
    "#Basic syntax for filtering rows in pandas\n",
    "\"\"\"\n",
    "    df[df[\"column_Name\"] condition]\n",
    "\"\"\""
   ]
  },
  {
   "cell_type": "code",
   "execution_count": 10,
   "id": "244387a4-ff70-496f-b136-666226791245",
   "metadata": {},
   "outputs": [
    {
     "name": "stdout",
     "output_type": "stream",
     "text": [
      "                    Job  Salary\n",
      "0           Ai Engineer   65000\n",
      "1        Data Scientist   70000\n",
      "3  Full stack developer   63000\n"
     ]
    }
   ],
   "source": [
    "import pandas as pd\n",
    "\n",
    "data={\n",
    "    \"Job\":[\"Ai Engineer\",\"Data Scientist\",\"Data Analyst\",\"Full stack developer\",\"Software Engineer\"],\n",
    "    \"Salary\":[65000,70000,55000,63000,50000]\n",
    "}\n",
    "df=pd.DataFrame(data)\n",
    "#print(df)\n",
    "\n",
    "filtered_row=df[df[\"Salary\"] > 60000]\n",
    "print(filtered_row)"
   ]
  },
  {
   "cell_type": "code",
   "execution_count": null,
   "id": "c5548b4b-b894-4a30-af41-b765b543f086",
   "metadata": {},
   "outputs": [],
   "source": [
    "#combine multiple conditions\n",
    "\"\"\"\n",
    "    df[(df[\"column_name\"] condition) logical Operator (df[\"column_name\"] condition)\n",
    "\"\"\""
   ]
  },
  {
   "cell_type": "code",
   "execution_count": 17,
   "id": "23ea68c3-c816-4342-a4e0-7854e16eba1c",
   "metadata": {},
   "outputs": [
    {
     "name": "stdout",
     "output_type": "stream",
     "text": [
      "              Job  Salary\n",
      "1  Data Scientist   70000\n",
      "              Job  Salary\n",
      "0     Ai Engineer   65000\n",
      "1  Data Scientist   70000\n"
     ]
    }
   ],
   "source": [
    "# AND condition: Salary > 60000 and Job == \"Data Scientist\"\n",
    "print(df[(df[\"Salary\"] > 60000) & (df[\"Job\"] == \"Data Scientist\")])\n",
    "\n",
    "# OR condition: Salary > 64000 or Job == \"Ai Engineer\"\n",
    "print(df[(df[\"Salary\"] > 64000) | (df[\"Job\"] == \"Ai Engineer\")])\n"
   ]
  }
 ],
 "metadata": {
  "kernelspec": {
   "display_name": "Python 3 (ipykernel)",
   "language": "python",
   "name": "python3"
  },
  "language_info": {
   "codemirror_mode": {
    "name": "ipython",
    "version": 3
   },
   "file_extension": ".py",
   "mimetype": "text/x-python",
   "name": "python",
   "nbconvert_exporter": "python",
   "pygments_lexer": "ipython3",
   "version": "3.13.1"
  }
 },
 "nbformat": 4,
 "nbformat_minor": 5
}

{
 "cells": [
  {
   "cell_type": "code",
   "execution_count": 15,
   "id": "fee003f9-63b8-4a85-b25a-0b8c46a80ad8",
   "metadata": {},
   "outputs": [
    {
     "ename": "AttributeError",
     "evalue": "module 'pandas' has no attribute 'head'",
     "output_type": "error",
     "traceback": [
      "\u001b[31m---------------------------------------------------------------------------\u001b[39m",
      "\u001b[31mAttributeError\u001b[39m                            Traceback (most recent call last)",
      "\u001b[36mCell\u001b[39m\u001b[36m \u001b[39m\u001b[32mIn[15]\u001b[39m\u001b[32m, line 5\u001b[39m\n\u001b[32m      2\u001b[39m \u001b[38;5;28;01mimport\u001b[39;00m\u001b[38;5;250m \u001b[39m\u001b[34;01mnumpy\u001b[39;00m\u001b[38;5;250m \u001b[39m\u001b[38;5;28;01mas\u001b[39;00m\u001b[38;5;250m \u001b[39m\u001b[34;01mnp\u001b[39;00m\n\u001b[32m      4\u001b[39m df = pd.read_csv(\u001b[33m\"\u001b[39m\u001b[33mlifetime-anxiety-or-depression.csv\u001b[39m\u001b[33m\"\u001b[39m)\n\u001b[32m----> \u001b[39m\u001b[32m5\u001b[39m \u001b[38;5;28mprint\u001b[39m(\u001b[43mpd\u001b[49m\u001b[43m.\u001b[49m\u001b[43mhead\u001b[49m())\n\u001b[32m      7\u001b[39m \u001b[38;5;66;03m# Filter rows where the country/entity is Nepal\u001b[39;00m\n\u001b[32m      8\u001b[39m \u001b[38;5;66;03m#nepal_data = df[df[\"Entity\"] == \"Nepal\"]\u001b[39;00m\n\u001b[32m     10\u001b[39m \u001b[38;5;28mprint\u001b[39m(nepal_data)\n",
      "\u001b[31mAttributeError\u001b[39m: module 'pandas' has no attribute 'head'"
     ]
    }
   ],
   "source": [
    "import pandas as pd\n",
    "import numpy as np\n",
    "\n",
    "df = pd.read_csv(\"lifetime-anxiety-or-depression.csv\")\n",
    "print(pd.head())\n",
    "\n",
    "# Filter rows where the country/entity is Nepal\n",
    "#nepal_data = df[df[\"Entity\"] == \"Nepal\"]\n",
    "\n",
    "print(nepal_data)\n"
   ]
  }
 ],
 "metadata": {
  "kernelspec": {
   "display_name": "Python 3 (ipykernel)",
   "language": "python",
   "name": "python3"
  },
  "language_info": {
   "codemirror_mode": {
    "name": "ipython",
    "version": 3
   },
   "file_extension": ".py",
   "mimetype": "text/x-python",
   "name": "python",
   "nbconvert_exporter": "python",
   "pygments_lexer": "ipython3",
   "version": "3.13.1"
  }
 },
 "nbformat": 4,
 "nbformat_minor": 5
}
